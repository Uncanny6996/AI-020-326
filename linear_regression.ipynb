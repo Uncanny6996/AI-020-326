{
  "nbformat": 4,
  "nbformat_minor": 0,
  "metadata": {
    "colab": {
      "provenance": []
    },
    "kernelspec": {
      "name": "python3",
      "display_name": "Python 3"
    },
    "language_info": {
      "name": "python"
    }
  },
  "cells": [
    {
      "cell_type": "code",
      "execution_count": null,
      "metadata": {
        "colab": {
          "base_uri": "https://localhost:8080/"
        },
        "id": "ZK9iq4guflGN",
        "outputId": "0743cc8b-aeef-499d-b59d-aad2d7d6a21d"
      },
      "outputs": [
        {
          "output_type": "stream",
          "name": "stdout",
          "text": [
            "Correlation Coefficient (r): 0.8463670653459558\n",
            "Intercept (a): 43.43023255813955\n",
            "Slope (b): 38.72093023255814\n",
            "Predicted Y for X = 15 : 624.2441860465117\n"
          ]
        }
      ],
      "source": [
        "import numpy as np\n",
        "\n",
        "dataX = np.array([6, 12, 14, 6, 9, 13, 15, 9])\n",
        "dataY = np.array([300, 400, 560, 250, 290, 650, 630, 520])\n",
        "X = 15\n",
        "\n",
        "dataXAvg = np.mean(dataX)\n",
        "dataYAvg = np.mean(dataY)\n",
        "\n",
        "x = dataX - dataXAvg\n",
        "y = dataY - dataYAvg\n",
        "\n",
        "xy = x * y\n",
        "xSqr = x ** 2\n",
        "ySqr = y ** 2\n",
        "\n",
        "sumxy = np.sum(xy)\n",
        "sumxSqr = np.sum(xSqr)\n",
        "sumySqr = np.sum(ySqr)\n",
        "\n",
        "rCoefficient = sumxy / np.sqrt(sumxSqr * sumySqr)\n",
        "\n",
        "b = sumxy / sumxSqr\n",
        "a = dataYAvg - b * dataXAvg\n",
        "\n",
        "Y = a + b * X\n",
        "\n",
        "print(\"Correlation Coefficient (r):\", rCoefficient)\n",
        "print(\"Intercept (a):\", a)\n",
        "print(\"Slope (b):\", b)\n",
        "print(\"Predicted Y for X =\", X, \":\", Y)\n"
      ]
    }
  ]
}