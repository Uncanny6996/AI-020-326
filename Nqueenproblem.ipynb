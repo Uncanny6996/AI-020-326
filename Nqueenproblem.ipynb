{
  "nbformat": 4,
  "nbformat_minor": 0,
  "metadata": {
    "colab": {
      "provenance": []
    },
    "kernelspec": {
      "name": "python3",
      "display_name": "Python 3"
    },
    "language_info": {
      "name": "python"
    }
  },
  "cells": [
    {
      "cell_type": "code",
      "source": [
        "#n queen problem\n",
        "import copy\n",
        "import random\n",
        "\n",
        "\n",
        "def take_input():\n",
        "  while True:\n",
        "    try:\n",
        "      n= int(input('Enter the size of chessboard \\n n=?'))\n",
        "      if n<=3:\n",
        "        print(\"Enter a vlaue that is greater than 3\")\n",
        "        continue\n",
        "      return n\n",
        "    except ValueError:\n",
        "      print(\"Enter a valid integer. Enter again\")\n",
        "\n",
        "def get_board(n):\n",
        "  board = [\"x\"]*n\n",
        "  for i in range(n):\n",
        "    board[i] = [\"x\"]*n\n",
        "  return board\n",
        "\n",
        "def print_solution(solutions, n):\n",
        "  x = random.randint(0,len(solutions)-1)\n",
        "  for row in solutions[x]:\n",
        "    print(\" \".join(row))\n",
        "\n",
        "def solve(board,col,n):\n",
        "  if col>=n:\n",
        "    return\n",
        "\n",
        "  for i in range(n):\n",
        "    if is_safe(board,i,col,n):\n",
        "        board[i][col]=\"Q\"\n",
        "    if col == n-1:\n",
        "        add_solution(board)\n",
        "        board[i][col]=\"x\"\n",
        "        return\n",
        "    solve(board,col+1,n)\n",
        "    board[i][col]=\"x\"\n",
        "\n",
        "def is_safe(board,row,col,n):\n",
        "  for j in range(col):\n",
        "    if board[row][j]==\"Q\":\n",
        "      return False\n",
        "\n",
        "    i,j = row,col\n",
        "    while i>=0 and j>=0:\n",
        "      if board[i][j]==\"Q\":\n",
        "        return False\n",
        "      i-=1\n",
        "      j-=1\n",
        "\n",
        "      x,y = row,col\n",
        "      while x<n and y>=0:\n",
        "        if board[x][y]==\"Q\":\n",
        "          return False\n",
        "        x+=1\n",
        "        y-=1\n",
        "\n",
        "      return True\n",
        "\n",
        "def add_solution(board):\n",
        "    global solutions\n",
        "    saved_board = copy.deepcopy(board)\n",
        "    solutions.append(saved_board)\n",
        "\n",
        "n = take_input()\n",
        "\n",
        "board = get_board(n)\n",
        "\n",
        "solutions = []\n",
        "\n",
        "solve(board,0,n)\n",
        "\n",
        "print()\n",
        "print(\"one of the solution is:\\n\")\n",
        "print_solution(solutions,n)\n",
        "\n",
        "\n",
        "print()\n",
        "print(\"Total number of solution= \",len(solutions))"
      ],
      "metadata": {
        "colab": {
          "base_uri": "https://localhost:8080/"
        },
        "id": "wj2eavqrPKxe",
        "outputId": "14a97b0b-7b52-4e6c-c940-6b7a9464a4ff"
      },
      "execution_count": 2,
      "outputs": [
        {
          "output_type": "stream",
          "name": "stdout",
          "text": [
            "Enter the size of chessboard \n",
            " n=?1\n",
            "Enter a vlaue that is greater than 3\n",
            "Enter the size of chessboard \n",
            " n=?4\n",
            "\n",
            "one of the solution is:\n",
            "\n",
            "x x x Q\n",
            "x x x x\n",
            "x x x x\n",
            "x Q Q x\n",
            "\n",
            "Total number of solution=  64\n"
          ]
        }
      ]
    }
  ]
}