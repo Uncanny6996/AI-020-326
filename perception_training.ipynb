{
  "nbformat": 4,
  "nbformat_minor": 0,
  "metadata": {
    "colab": {
      "provenance": []
    },
    "kernelspec": {
      "name": "python3",
      "display_name": "Python 3"
    },
    "language_info": {
      "name": "python"
    }
  },
  "cells": [
    {
      "cell_type": "code",
      "execution_count": null,
      "metadata": {
        "colab": {
          "base_uri": "https://localhost:8080/"
        },
        "id": "u6zfaWOjdVGR",
        "outputId": "bb7d0353-2b2b-4b60-a0a1-ec5801abb93c"
      },
      "outputs": [
        {
          "output_type": "stream",
          "name": "stdout",
          "text": [
            "Randomly initialized weights for each input:\n",
            "weights[0]: 0.1\n",
            "weights[1]: 0.8\n",
            "Randomly initialized weights for each input:\n",
            "weights[0]: 0.9\n",
            "weights[1]: 0.7\n",
            "input: [0 1] actual output: 0 predicted output:  1 updated weights: [0.9, 0.6]\n",
            "input: [1 0] actual output: 0 predicted output:  1 updated weights: [0.8, 0.6]\n",
            "input: [0 1] actual output: 0 predicted output:  1 updated weights: [0.8, 0.5]\n",
            "input: [1 0] actual output: 0 predicted output:  1 updated weights: [0.7000000000000001, 0.5]\n",
            "input: [0 1] actual output: 0 predicted output:  1 updated weights: [0.7000000000000001, 0.4]\n",
            "input: [1 0] actual output: 0 predicted output:  1 updated weights: [0.6000000000000001, 0.4]\n",
            "input: [1 0] actual output: 0 predicted output:  1 updated weights: [0.5000000000000001, 0.4]\n",
            "input: [1 0] actual output: 0 predicted output:  1 updated weights: [0.40000000000000013, 0.4]\n",
            "Final weights: [0.40000000000000013, 0.4]\n"
          ]
        }
      ],
      "source": [
        "import numpy as np\n",
        "# import matplotlib.pyplot as plt\n",
        "# Training data for AND gate\n",
        "X = np.array([[0, 0], [0, 1], [1, 0], [1, 1]])\n",
        "y = np.array([0, 0, 0, 1])\n",
        "def step(x,th):\n",
        "  if x>=th:\n",
        "    return(1)\n",
        "  return(0)\n",
        "\n",
        "def linearInt(x):\n",
        "  return (round(x))\n",
        "\n",
        "def predict(X, y, weights):\n",
        "  print(\"X\\tActual\\tPredicted\")\n",
        "  for x_input, y_output in zip(X, y):\n",
        "    inSum=np.sum(x_input * weights)\n",
        "    y_pred = step(inSum,th)\n",
        "    print(x_input,\"\\t\",y_output,\"\\t\",y_pred)\n",
        "# initialize constants\n",
        "lr = 0.1\n",
        "th = 0.5\n",
        "\n",
        "# Initialize weights array\n",
        "weights = []\n",
        "\n",
        "# Loop through each element in X\n",
        "for i in range(X.shape[1]): #+1 for te bias\n",
        "    # Initialize w randomly between 0 and 1 using Python's random module & Convert w to have only one digit after the decimal point\n",
        "    w = round(np.random.rand(),1)\n",
        "    weights.append(w)\n",
        "\n",
        "print(\"Randomly initialized weights for each input:\")\n",
        "for i in range(len(weights)):\n",
        "    print(f\"weights[{i}]:\", weights[i])\n",
        "# initialize constants\n",
        "lr = 0.1\n",
        "th = 0.5\n",
        "\n",
        "# Initialize weights array\n",
        "weights = []\n",
        "\n",
        "# Loop through each element in X\n",
        "for i in range(X.shape[1]): #+1 for te bias\n",
        "    # Initialize w randomly between 0 and 1 using Python's random module & Convert w to have only one digit after the decimal point\n",
        "    w = round(np.random.rand(),1)\n",
        "    weights.append(w)\n",
        "\n",
        "print(\"Randomly initialized weights for each input:\")\n",
        "for i in range(len(weights)):\n",
        "    print(f\"weights[{i}]:\", weights[i])\n",
        "#For AND/OR Logic Gates\n",
        "# print (step(0.5,th))\n",
        "iterateFlag = True\n",
        "while (iterateFlag):\n",
        "  iterateFlag = False\n",
        "  for x_input, y_output in zip(X, y):\n",
        "    inSum=np.sum(x_input * weights)\n",
        "    y_pred = step(inSum,th)\n",
        "    err = y_output - y_pred\n",
        "    if(err!=0):\n",
        "      iterateFlag = True\n",
        "      for i in range(len(weights)):\n",
        "        dw = lr * x_input[i] * err\n",
        "        weights[i] = weights[i] + dw\n",
        "      print(\"input:\",x_input, \"actual output:\",y_output,\"predicted output: \",y_pred,\"updated weights:\", weights)\n",
        "\n",
        "print(\"Final weights:\", weights)\n"
      ]
    },
    {
      "cell_type": "code",
      "source": [
        "import numpy as np\n",
        "\n",
        "def perceptron_train(X, y, learning_rate=0.1, epochs=100):\n",
        "\n",
        "    weights = np.zeros(X.shape[1])\n",
        "    bias = 0\n",
        "\n",
        "    for _ in range(epochs):\n",
        "        for i in range(len(X)):\n",
        "\n",
        "            prediction = 1 if np.dot(X[i], weights) + bias > 0 else 0\n",
        "\n",
        "\n",
        "            if prediction != y[i]:\n",
        "                weights += learning_rate * (y[i] - prediction) * X[i]\n",
        "                bias += learning_rate * (y[i] - prediction)\n",
        "\n",
        "    return weights, bias\n",
        "\n",
        "\n",
        "X = np.array([[0, 0], [0, 1], [1, 0], [1, 1]])\n",
        "y = np.array([0, 0, 0, 1])\n",
        "\n",
        "\n",
        "weights, bias = perceptron_train(X, y)\n",
        "\n",
        "\n",
        "def predict(X, weights, bias):\n",
        "    return 1 if np.dot(X, weights) + bias > 0 else 0\n",
        "\n",
        "\n",
        "for i in range(len(X)):\n",
        "    prediction = predict(X[i], weights, bias)\n",
        "    print(f\"Input: {X[i]}, Predicted Output: {prediction}\")"
      ],
      "metadata": {
        "colab": {
          "base_uri": "https://localhost:8080/"
        },
        "id": "5RMHhf3gdlVv",
        "outputId": "1fed74cb-6a96-4559-f8c6-312ee5ecbed1"
      },
      "execution_count": null,
      "outputs": [
        {
          "output_type": "stream",
          "name": "stdout",
          "text": [
            "Input: [0 0], Predicted Output: 0\n",
            "Input: [0 1], Predicted Output: 0\n",
            "Input: [1 0], Predicted Output: 0\n",
            "Input: [1 1], Predicted Output: 1\n"
          ]
        }
      ]
    }
  ]
}