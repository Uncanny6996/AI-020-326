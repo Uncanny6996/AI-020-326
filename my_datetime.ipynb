{
  "nbformat": 4,
  "nbformat_minor": 0,
  "metadata": {
    "colab": {
      "provenance": []
    },
    "kernelspec": {
      "name": "python3",
      "display_name": "Python 3"
    },
    "language_info": {
      "name": "python"
    }
  },
  "cells": [
    {
      "cell_type": "code",
      "execution_count": 1,
      "metadata": {
        "colab": {
          "base_uri": "https://localhost:8080/"
        },
        "id": "dexEwTSLOacc",
        "outputId": "3cb7f27d-36c8-4046-8b23-ec612db32402"
      },
      "outputs": [
        {
          "output_type": "stream",
          "name": "stdout",
          "text": [
            "Today's date: 2025-01-22\n",
            "Days until birthday: -31\n",
            "12 hours from today: 2025-01-22\n",
            "Time object: 09:30:45.100000\n",
            "Datetime with UTC timezone: 2016-07-24 12:30:45+00:00\n",
            "Current UTC time (using now): 2025-01-22 13:37:06.805753+00:00\n",
            "Current UTC time (using utcnow): 2025-01-22 13:37:06.805979+00:00\n",
            "UTC to Mountain Time: 2025-01-22 06:37:06.805753-07:00\n",
            "Localized Mountain Time: 2025-01-22 13:37:06.849683-07:00\n",
            "Mountain to Eastern Time: 2025-01-22 15:37:06.849683-05:00\n",
            "Formatted date: January 22, 2025\n",
            "Parsed datetime from string: 2016-07-24 00:00:00\n"
          ]
        }
      ],
      "source": [
        "import datetime\n",
        "import pytz\n",
        "\n",
        "# --- Working with Dates ---\n",
        "tday = datetime.date.today()\n",
        "print(f\"Today's date: {tday}\")\n",
        "\n",
        "# Days until a specific date (e.g., Birthday)\n",
        "bday = datetime.date(2024, 12, 22)\n",
        "till_bday = bday - tday\n",
        "print(f\"Days until birthday: {till_bday.days}\")\n",
        "\n",
        "# --- Working with Timedeltas ---\n",
        "tdelta = datetime.timedelta(hours=12)\n",
        "print(f\"12 hours from today: {tday + tdelta}\")  # Note: Adding hours to a date object doesn't make sense\n",
        "\n",
        "# --- Working with Time ---\n",
        "t = datetime.time(9, 30, 45, 100000)\n",
        "print(f\"Time object: {t}\")\n",
        "\n",
        "# --- Working with Datetime ---\n",
        "dt = datetime.datetime(2016, 7, 24, 12, 30, 45, tzinfo=pytz.UTC)\n",
        "print(f\"Datetime with UTC timezone: {dt}\")\n",
        "\n",
        "dt_utcnow = datetime.datetime.now(tz=pytz.UTC)\n",
        "print(f\"Current UTC time (using now): {dt_utcnow}\")\n",
        "\n",
        "dt_utcnow2 = datetime.datetime.utcnow().replace(tzinfo=pytz.UTC)\n",
        "print(f\"Current UTC time (using utcnow): {dt_utcnow2}\")\n",
        "\n",
        "# Convert UTC to a different timezone (e.g., Mountain Time)\n",
        "dt_mtn = dt_utcnow.astimezone(pytz.timezone('US/Mountain'))\n",
        "print(f\"UTC to Mountain Time: {dt_mtn}\")\n",
        "\n",
        "# Localize naive datetime to Mountain Time\n",
        "dt_mtn = datetime.datetime.now()  # Current local time\n",
        "mtn_tz = pytz.timezone('US/Mountain')\n",
        "dt_mtn = mtn_tz.localize(dt_mtn)\n",
        "print(f\"Localized Mountain Time: {dt_mtn}\")\n",
        "\n",
        "# Convert Mountain Time to Eastern Time\n",
        "dt_east = dt_mtn.astimezone(pytz.timezone('US/Eastern'))\n",
        "print(f\"Mountain to Eastern Time: {dt_east}\")\n",
        "\n",
        "# --- Formatting and Parsing Dates ---\n",
        "# Format datetime to string\n",
        "formatted_date = dt_mtn.strftime('%B %d, %Y')\n",
        "print(f\"Formatted date: {formatted_date}\")\n",
        "\n",
        "# Parse string to datetime\n",
        "dt_str = 'July 24, 2016'\n",
        "dt = datetime.datetime.strptime(dt_str, '%B %d, %Y')\n",
        "print(f\"Parsed datetime from string: {dt}\")"
      ]
    }
  ]
}